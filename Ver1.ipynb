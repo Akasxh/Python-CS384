{
 "cells": [
  {
   "cell_type": "code",
   "execution_count": 1,
   "metadata": {},
   "outputs": [
    {
     "name": "stdout",
     "output_type": "stream",
     "text": [
      "Collecting xlsxwriter\n",
      "  Downloading XlsxWriter-3.2.0-py3-none-any.whl (159 kB)\n",
      "     ---------------------------------------- 0.0/159.9 kB ? eta -:--:--\n",
      "     -- ------------------------------------- 10.2/159.9 kB ? eta -:--:--\n",
      "     ------- ----------------------------- 30.7/159.9 kB 330.3 kB/s eta 0:00:01\n",
      "     ------- ----------------------------- 30.7/159.9 kB 330.3 kB/s eta 0:00:01\n",
      "     ------- ----------------------------- 30.7/159.9 kB 330.3 kB/s eta 0:00:01\n",
      "     --------- --------------------------- 41.0/159.9 kB 131.3 kB/s eta 0:00:01\n",
      "     -------------- ---------------------- 61.4/159.9 kB 193.2 kB/s eta 0:00:01\n",
      "     ------------------------- ---------- 112.6/159.9 kB 328.2 kB/s eta 0:00:01\n",
      "     --------------------------- -------- 122.9/159.9 kB 313.8 kB/s eta 0:00:01\n",
      "     ------------------------------------ 159.9/159.9 kB 354.7 kB/s eta 0:00:00\n",
      "Collecting openpyxl\n",
      "  Using cached openpyxl-3.1.5-py2.py3-none-any.whl (250 kB)\n",
      "Collecting et-xmlfile\n",
      "  Using cached et_xmlfile-1.1.0-py3-none-any.whl (4.7 kB)\n",
      "Installing collected packages: xlsxwriter, et-xmlfile, openpyxl\n",
      "Successfully installed et-xmlfile-1.1.0 openpyxl-3.1.5 xlsxwriter-3.2.0\n",
      "Note: you may need to restart the kernel to use updated packages.\n"
     ]
    },
    {
     "name": "stderr",
     "output_type": "stream",
     "text": [
      "\n",
      "[notice] A new release of pip is available: 23.0.1 -> 24.2\n",
      "[notice] To update, run: python.exe -m pip install --upgrade pip\n"
     ]
    }
   ],
   "source": [
    "pip install xlsxwriter openpyxl"
   ]
  },
  {
   "cell_type": "code",
   "execution_count": 2,
   "metadata": {},
   "outputs": [],
   "source": [
    "import pandas as pd\n",
    "from datetime import datetime,timedelta\n",
    "import xlsxwriter\n",
    "import openpyxl\n",
    "from openpyxl.styles import PatternFill"
   ]
  },
  {
   "cell_type": "code",
   "execution_count": 3,
   "metadata": {},
   "outputs": [],
   "source": [
    "\n",
    "classes_taken_dates = [\"06/08/2024\", \"13/08/2024\", \"20/08/2024\", \"27/08/2024\",\n",
    "                       \"03/09/2024\", \"17/09/2024\", \"01/10/2024\"]\n",
    "classes_missed_dates = [\"10/09/2024\"]\n",
    "exams_dates = [\"24/09/2024\"]\n",
    "all_dates = sorted(classes_taken_dates + classes_missed_dates + exams_dates, key=lambda x: datetime.strptime(x, '%d/%m/%Y'))  \n",
    "class_timing = \"18:00 - 20:00\""
   ]
  },
  {
   "cell_type": "code",
   "execution_count": 4,
   "metadata": {},
   "outputs": [],
   "source": [
    "# 6-8pm\n",
    "def is_present(attendance_time, lecture_start, lecture_end):\n",
    "    attendance_time = datetime.strptime(attendance_time, '%d/%m/%Y %H:%M:%S') \n",
    "    return lecture_start <= attendance_time <= lecture_end"
   ]
  },
  {
   "cell_type": "code",
   "execution_count": 6,
   "metadata": {},
   "outputs": [],
   "source": [
    "with open(r'C:\\Users\\draka\\Downloads\\temp\\stud_list.txt', 'r') as file:\n",
    "    students = [line.split()[0] for line in file.read().splitlines()]  \n",
    "\n",
    "attendance_df = pd.read_csv(r'C:\\Users\\draka\\Downloads\\temp\\input_attendance.csv', names=['Timestamp', 'Roll'], header=0)\n"
   ]
  },
  {
   "cell_type": "code",
   "execution_count": 7,
   "metadata": {},
   "outputs": [],
   "source": [
    "attendance_df['Roll'] = attendance_df['Roll'].fillna('')  \n",
    "\n",
    "attendance_df['Roll'] = attendance_df['Roll'].apply(lambda x: x.split()[0] if x else '')  \n",
    "\n",
    "output_excel = 'output_excel.xlsx'\n",
    "writer = pd.ExcelWriter(output_excel, engine='openpyxl')\n",
    "\n",
    "attendance_summary = []\n",
    "proxy_summary = []"
   ]
  },
  {
   "cell_type": "code",
   "execution_count": 8,
   "metadata": {},
   "outputs": [],
   "source": [
    "for date in all_dates:\n",
    "    lecture_start = datetime.strptime(f'{date} 18:00', '%d/%m/%Y %H:%M')\n",
    "    lecture_end = lecture_start + timedelta(hours=2)  \n",
    "\n",
    "   \n",
    "    daily_attendance = {}\n",
    "    daily_proxy = {}\n",
    "\n",
    "    for student in students:\n",
    "        \n",
    "        student_records = attendance_df[(attendance_df['Roll'] == student) &\n",
    "                                        (attendance_df['Timestamp'].str.startswith(date))]\n",
    "\n",
    "        \n",
    "        present_count = student_records['Timestamp'].apply(lambda x: is_present(x, lecture_start, lecture_end)).sum()\n",
    "\n",
    "        \n",
    "        attendance_status = present_count  \n",
    "\n",
    "        # for proxyy\n",
    "        proxy_count = present_count - 2 if present_count > 2 else 0\n",
    "\n",
    "        daily_attendance[student] = attendance_status\n",
    "        daily_proxy[student] = proxy_count\n",
    "\n",
    "    attendance_summary.append(daily_attendance)\n",
    "    proxy_summary.append(daily_proxy)"
   ]
  },
  {
   "cell_type": "code",
   "execution_count": 9,
   "metadata": {},
   "outputs": [],
   "source": [
    "attendance_df = pd.DataFrame(attendance_summary, index=all_dates)\n",
    "proxy_df = pd.DataFrame(proxy_summary, index=all_dates)\n",
    "\n",
    "attendance_df = attendance_df.T\n",
    "proxy_df = proxy_df.T\n",
    "\n",
    "attendance_df['Total Count'] = attendance_df.count(axis=1) \n",
    "attendance_df['Total Attendance Marked'] = attendance_df.iloc[:, :-1].sum(axis=1)  \n",
    "attendance_df['Total Attendance Allowed'] = len(classes_taken_dates) * 2  \n",
    "attendance_df['Total Proxy'] = proxy_df.sum(axis=1)  "
   ]
  },
  {
   "cell_type": "code",
   "execution_count": 10,
   "metadata": {},
   "outputs": [],
   "source": [
    "attendance_df.to_excel(writer, sheet_name='Attendance')\n",
    "\n",
    "workbook = writer.book\n",
    "sheet = workbook['Attendance']\n",
    "\n",
    "red_fill = PatternFill(start_color='FF9999', end_color='FF9999', fill_type='solid')\n",
    "yellow_fill = PatternFill(start_color='FFFF99', end_color='FFFF99', fill_type='solid')\n",
    "green_fill = PatternFill(start_color='99FF99', end_color='99FF99', fill_type='solid')\n",
    "\n",
    "for row in sheet.iter_rows(min_row=2, max_row=sheet.max_row, min_col=2, max_col=sheet.max_column - 4):\n",
    "    for cell in row:\n",
    "        if cell.value == 0:\n",
    "            cell.fill = red_fill\n",
    "        elif cell.value == 1:\n",
    "            cell.fill = yellow_fill\n",
    "        elif cell.value >= 2:\n",
    "            cell.fill = green_fill\n",
    "\n",
    "writer.close()"
   ]
  },
  {
   "cell_type": "code",
   "execution_count": null,
   "metadata": {},
   "outputs": [],
   "source": []
  }
 ],
 "metadata": {
  "kernelspec": {
   "display_name": "virtual_environment",
   "language": "python",
   "name": "python3"
  },
  "language_info": {
   "codemirror_mode": {
    "name": "ipython",
    "version": 3
   },
   "file_extension": ".py",
   "mimetype": "text/x-python",
   "name": "python",
   "nbconvert_exporter": "python",
   "pygments_lexer": "ipython3",
   "version": "3.10.11"
  }
 },
 "nbformat": 4,
 "nbformat_minor": 2
}
